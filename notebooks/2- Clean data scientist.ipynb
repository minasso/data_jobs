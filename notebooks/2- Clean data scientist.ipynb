{
 "cells": [
  {
   "cell_type": "code",
   "execution_count": 1,
   "metadata": {},
   "outputs": [],
   "source": [
    "import pandas as pd"
   ]
  },
  {
   "cell_type": "code",
   "execution_count": 2,
   "metadata": {},
   "outputs": [],
   "source": [
    "pd.set_option('max_rows',4)"
   ]
  },
  {
   "cell_type": "code",
   "execution_count": 3,
   "metadata": {},
   "outputs": [],
   "source": [
    "from clean_data import *"
   ]
  },
  {
   "cell_type": "code",
   "execution_count": 4,
   "metadata": {},
   "outputs": [],
   "source": [
    "df = import_csv('../data/raw/datascientist.csv')"
   ]
  },
  {
   "cell_type": "code",
   "execution_count": 5,
   "metadata": {},
   "outputs": [],
   "source": [
    "df = df.reset_index().rename(columns = {'index':'job_id'})"
   ]
  },
  {
   "cell_type": "code",
   "execution_count": 6,
   "metadata": {},
   "outputs": [
    {
     "name": "stdout",
     "output_type": "stream",
     "text": [
      "could not convert to numeric\n"
     ]
    }
   ],
   "source": [
    "f = fix_salary(df)"
   ]
  },
  {
   "cell_type": "code",
   "execution_count": 7,
   "metadata": {},
   "outputs": [
    {
     "data": {
      "text/plain": [
       "array(['181000 ', '140000 ', '147000 ', '124000 ', '121000 ', '210000 ',\n",
       "       '254000 ', '152000 ', '171000 ', '139000 ', '141000 ', '119000 ',\n",
       "       '175000 ', '164000 ', '180000 ', '122000 ', '218000 ', '125000 ',\n",
       "       '208000 ', '105000 ', '143000 ', '72000 ', '75000 ', '184000 ',\n",
       "       '53 Per Hour', '80000 ', '130000 ', '56000 ', '81000 ', '174000 ',\n",
       "       '109000 ', '123000 ', '73000 ', '59000 ', '144000 ', '82000 ',\n",
       "       '87000 ', '71000 ', '117000 ', '217000 ', '97000 ', '136000 ',\n",
       "       '26 Per Hour', '151000 ', '159000 ', '104000 ', '156000 ',\n",
       "       '111000 ', '101000 ', '173000 ', '166000 ', '100000 ', '74000 ',\n",
       "       '83000 ', '106000 ', '237000 ', '154000 ', '89000 ', '92000 ',\n",
       "       '91000 ', '76000 ', '27 Per Hour', '146000 ', '165000 ', '69000 ',\n",
       "       '129000 ', '211000 ', '149000 ', '127000 ', '178000 ', '169000 ',\n",
       "       '112000 ', '78000 ', '98000 ', '79000 ', '102000 ', '172000 ',\n",
       "       '250000(Employer est.)', '214000 ', '188000 ', '176000 ',\n",
       "       '192000 ', '225000 ', '179000 ', '68000 ', '129000(Employer est.)',\n",
       "       '66000 ', '113000 ', '110000 ', '185000 ', '94000 ', '88000 ',\n",
       "       '155000 ', '84000 ', '103000 ', '163000 ', '160000 ', '86000 '],\n",
       "      dtype=object)"
      ]
     },
     "execution_count": 7,
     "metadata": {},
     "output_type": "execute_result"
    }
   ],
   "source": [
    "f['high_salary'].unique()"
   ]
  },
  {
   "cell_type": "code",
   "execution_count": 8,
   "metadata": {},
   "outputs": [],
   "source": [
    "f['high_salary'] = f['high_salary'].str.replace('\\(Employer est.\\)','')"
   ]
  },
  {
   "cell_type": "code",
   "execution_count": 9,
   "metadata": {},
   "outputs": [],
   "source": [
    "to_drop = f[f['high_salary'].str.contains('Per')].index"
   ]
  },
  {
   "cell_type": "code",
   "execution_count": null,
   "metadata": {},
   "outputs": [],
   "source": [
    "#number of part time hourly positions to drop"
   ]
  },
  {
   "cell_type": "code",
   "execution_count": 11,
   "metadata": {},
   "outputs": [
    {
     "data": {
      "text/plain": [
       "21"
      ]
     },
     "execution_count": 11,
     "metadata": {},
     "output_type": "execute_result"
    }
   ],
   "source": [
    "len(to_drop)"
   ]
  },
  {
   "cell_type": "code",
   "execution_count": 12,
   "metadata": {},
   "outputs": [],
   "source": [
    "#drop hourly jobs\n",
    "f = f.drop(to_drop,axis=0)"
   ]
  },
  {
   "cell_type": "code",
   "execution_count": 13,
   "metadata": {},
   "outputs": [],
   "source": [
    "f['low_salary'] = pd.to_numeric(f['low_salary'])\n",
    "f['high_salary'] = pd.to_numeric(f['high_salary'])"
   ]
  },
  {
   "cell_type": "code",
   "execution_count": 14,
   "metadata": {},
   "outputs": [],
   "source": [
    "f['mid_salary'] = (f['low_salary'] + f['low_salary']) / 2"
   ]
  },
  {
   "cell_type": "code",
   "execution_count": 15,
   "metadata": {},
   "outputs": [],
   "source": [
    "f = fix_rest(f)"
   ]
  },
  {
   "cell_type": "code",
   "execution_count": 16,
   "metadata": {},
   "outputs": [
    {
     "data": {
      "text/plain": [
       "Index(['job_id', 'job_title', 'job_description', 'rating', 'company_name',\n",
       "       'headquarters', 'size', 'founded', 'type_of_ownership', 'industry',\n",
       "       'sector', 'revenue', 'competitors', 'easy_apply', 'low_salary',\n",
       "       'high_salary', 'mid_salary', 'city', 'state'],\n",
       "      dtype='object')"
      ]
     },
     "execution_count": 16,
     "metadata": {},
     "output_type": "execute_result"
    }
   ],
   "source": [
    "f.columns"
   ]
  },
  {
   "cell_type": "code",
   "execution_count": 17,
   "metadata": {},
   "outputs": [
    {
     "data": {
      "text/html": [
       "<div>\n",
       "<style scoped>\n",
       "    .dataframe tbody tr th:only-of-type {\n",
       "        vertical-align: middle;\n",
       "    }\n",
       "\n",
       "    .dataframe tbody tr th {\n",
       "        vertical-align: top;\n",
       "    }\n",
       "\n",
       "    .dataframe thead th {\n",
       "        text-align: right;\n",
       "    }\n",
       "</style>\n",
       "<table border=\"1\" class=\"dataframe\">\n",
       "  <thead>\n",
       "    <tr style=\"text-align: right;\">\n",
       "      <th></th>\n",
       "      <th>job_id</th>\n",
       "      <th>job_title</th>\n",
       "      <th>job_description</th>\n",
       "      <th>rating</th>\n",
       "      <th>company_name</th>\n",
       "      <th>headquarters</th>\n",
       "      <th>size</th>\n",
       "      <th>founded</th>\n",
       "      <th>type_of_ownership</th>\n",
       "      <th>industry</th>\n",
       "      <th>sector</th>\n",
       "      <th>revenue</th>\n",
       "      <th>competitors</th>\n",
       "      <th>easy_apply</th>\n",
       "      <th>low_salary</th>\n",
       "      <th>high_salary</th>\n",
       "      <th>mid_salary</th>\n",
       "      <th>city</th>\n",
       "      <th>state</th>\n",
       "    </tr>\n",
       "  </thead>\n",
       "  <tbody>\n",
       "    <tr>\n",
       "      <th>0</th>\n",
       "      <td>0</td>\n",
       "      <td>Senior Data Scientist</td>\n",
       "      <td>ABOUT HOPPER\\n\\nAt Hopper, we’re on a mission ...</td>\n",
       "      <td>3.5</td>\n",
       "      <td>Hopper</td>\n",
       "      <td>Montreal, Canada</td>\n",
       "      <td>501 to 1000 employees</td>\n",
       "      <td>2007</td>\n",
       "      <td>Company - Private</td>\n",
       "      <td>Travel Agencies</td>\n",
       "      <td>Travel &amp; Tourism</td>\n",
       "      <td>Unknown / Non-Applicable</td>\n",
       "      <td>-1</td>\n",
       "      <td>-1</td>\n",
       "      <td>111000</td>\n",
       "      <td>181000</td>\n",
       "      <td>111000.0</td>\n",
       "      <td>New York</td>\n",
       "      <td>NY</td>\n",
       "    </tr>\n",
       "    <tr>\n",
       "      <th>1</th>\n",
       "      <td>1</td>\n",
       "      <td>Data Scientist, Product Analytics</td>\n",
       "      <td>At Noom, we use scientifically proven methods ...</td>\n",
       "      <td>4.5</td>\n",
       "      <td>Noom US</td>\n",
       "      <td>New York, NY</td>\n",
       "      <td>1001 to 5000 employees</td>\n",
       "      <td>2008</td>\n",
       "      <td>Company - Private</td>\n",
       "      <td>Health, Beauty, &amp; Fitness</td>\n",
       "      <td>Consumer Services</td>\n",
       "      <td>Unknown / Non-Applicable</td>\n",
       "      <td>-1</td>\n",
       "      <td>-1</td>\n",
       "      <td>111000</td>\n",
       "      <td>181000</td>\n",
       "      <td>111000.0</td>\n",
       "      <td>New York</td>\n",
       "      <td>NY</td>\n",
       "    </tr>\n",
       "    <tr>\n",
       "      <th>...</th>\n",
       "      <td>...</td>\n",
       "      <td>...</td>\n",
       "      <td>...</td>\n",
       "      <td>...</td>\n",
       "      <td>...</td>\n",
       "      <td>...</td>\n",
       "      <td>...</td>\n",
       "      <td>...</td>\n",
       "      <td>...</td>\n",
       "      <td>...</td>\n",
       "      <td>...</td>\n",
       "      <td>...</td>\n",
       "      <td>...</td>\n",
       "      <td>...</td>\n",
       "      <td>...</td>\n",
       "      <td>...</td>\n",
       "      <td>...</td>\n",
       "      <td>...</td>\n",
       "      <td>...</td>\n",
       "    </tr>\n",
       "    <tr>\n",
       "      <th>3907</th>\n",
       "      <td>3907</td>\n",
       "      <td>Security Analytics Data Engineer</td>\n",
       "      <td>The Security Analytics Data Engineer will inte...</td>\n",
       "      <td>4.0</td>\n",
       "      <td>Data Resource Technologies</td>\n",
       "      <td>Omaha, NE</td>\n",
       "      <td>1 to 50 employees</td>\n",
       "      <td>-1</td>\n",
       "      <td>Company - Private</td>\n",
       "      <td>Accounting</td>\n",
       "      <td>Accounting &amp; Legal</td>\n",
       "      <td>Less than $1 million (USD)</td>\n",
       "      <td>-1</td>\n",
       "      <td>-1</td>\n",
       "      <td>55000</td>\n",
       "      <td>112000</td>\n",
       "      <td>55000.0</td>\n",
       "      <td>Dublin</td>\n",
       "      <td>OH</td>\n",
       "    </tr>\n",
       "    <tr>\n",
       "      <th>3908</th>\n",
       "      <td>3908</td>\n",
       "      <td>Patient Safety Physician or Safety Scientist -...</td>\n",
       "      <td>Help us transform patients' lives.\\nAt UCB, we...</td>\n",
       "      <td>3.7</td>\n",
       "      <td>UCB</td>\n",
       "      <td>Brussel, Belgium</td>\n",
       "      <td>5001 to 10000 employees</td>\n",
       "      <td>-1</td>\n",
       "      <td>Company - Public</td>\n",
       "      <td>Biotech &amp; Pharmaceuticals</td>\n",
       "      <td>Biotech &amp; Pharmaceuticals</td>\n",
       "      <td>$2 to $5 billion (USD)</td>\n",
       "      <td>AbbVie</td>\n",
       "      <td>-1</td>\n",
       "      <td>55000</td>\n",
       "      <td>112000</td>\n",
       "      <td>55000.0</td>\n",
       "      <td>Slough</td>\n",
       "      <td>OH</td>\n",
       "    </tr>\n",
       "  </tbody>\n",
       "</table>\n",
       "<p>3888 rows × 19 columns</p>\n",
       "</div>"
      ],
      "text/plain": [
       "      job_id                                          job_title  \\\n",
       "0          0                              Senior Data Scientist   \n",
       "1          1                  Data Scientist, Product Analytics   \n",
       "...      ...                                                ...   \n",
       "3907    3907                   Security Analytics Data Engineer   \n",
       "3908    3908  Patient Safety Physician or Safety Scientist -...   \n",
       "\n",
       "                                        job_description  rating  \\\n",
       "0     ABOUT HOPPER\\n\\nAt Hopper, we’re on a mission ...     3.5   \n",
       "1     At Noom, we use scientifically proven methods ...     4.5   \n",
       "...                                                 ...     ...   \n",
       "3907  The Security Analytics Data Engineer will inte...     4.0   \n",
       "3908  Help us transform patients' lives.\\nAt UCB, we...     3.7   \n",
       "\n",
       "                    company_name      headquarters                     size  \\\n",
       "0                         Hopper  Montreal, Canada    501 to 1000 employees   \n",
       "1                        Noom US      New York, NY   1001 to 5000 employees   \n",
       "...                          ...               ...                      ...   \n",
       "3907  Data Resource Technologies         Omaha, NE        1 to 50 employees   \n",
       "3908                         UCB  Brussel, Belgium  5001 to 10000 employees   \n",
       "\n",
       "      founded  type_of_ownership                   industry  \\\n",
       "0        2007  Company - Private            Travel Agencies   \n",
       "1        2008  Company - Private  Health, Beauty, & Fitness   \n",
       "...       ...                ...                        ...   \n",
       "3907       -1  Company - Private                 Accounting   \n",
       "3908       -1   Company - Public  Biotech & Pharmaceuticals   \n",
       "\n",
       "                         sector                     revenue competitors  \\\n",
       "0              Travel & Tourism    Unknown / Non-Applicable          -1   \n",
       "1             Consumer Services    Unknown / Non-Applicable          -1   \n",
       "...                         ...                         ...         ...   \n",
       "3907         Accounting & Legal  Less than $1 million (USD)          -1   \n",
       "3908  Biotech & Pharmaceuticals      $2 to $5 billion (USD)      AbbVie   \n",
       "\n",
       "     easy_apply  low_salary  high_salary  mid_salary      city state  \n",
       "0            -1      111000       181000    111000.0  New York    NY  \n",
       "1            -1      111000       181000    111000.0  New York    NY  \n",
       "...         ...         ...          ...         ...       ...   ...  \n",
       "3907         -1       55000       112000     55000.0    Dublin    OH  \n",
       "3908         -1       55000       112000     55000.0    Slough    OH  \n",
       "\n",
       "[3888 rows x 19 columns]"
      ]
     },
     "execution_count": 17,
     "metadata": {},
     "output_type": "execute_result"
    }
   ],
   "source": [
    "f"
   ]
  },
  {
   "cell_type": "code",
   "execution_count": 18,
   "metadata": {},
   "outputs": [],
   "source": [
    "f.to_pickle('../data/interim/data_scientist.pkl')"
   ]
  }
 ],
 "metadata": {
  "kernelspec": {
   "display_name": "Python 3",
   "language": "python",
   "name": "python3"
  },
  "language_info": {
   "codemirror_mode": {
    "name": "ipython",
    "version": 3
   },
   "file_extension": ".py",
   "mimetype": "text/x-python",
   "name": "python",
   "nbconvert_exporter": "python",
   "pygments_lexer": "ipython3",
   "version": "3.7.1"
  }
 },
 "nbformat": 4,
 "nbformat_minor": 4
}
