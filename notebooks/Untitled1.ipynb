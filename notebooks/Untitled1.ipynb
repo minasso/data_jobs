{
 "cells": [
  {
   "cell_type": "code",
   "execution_count": 5,
   "metadata": {},
   "outputs": [
    {
     "ename": "ModuleNotFoundError",
     "evalue": "No module named 'try_to_import_me'",
     "output_type": "error",
     "traceback": [
      "\u001b[1;31m---------------------------------------------------------------------------\u001b[0m",
      "\u001b[1;31mModuleNotFoundError\u001b[0m                       Traceback (most recent call last)",
      "\u001b[1;32m<ipython-input-5-4c89e321fb2e>\u001b[0m in \u001b[0;36m<module>\u001b[1;34m\u001b[0m\n\u001b[1;32m----> 1\u001b[1;33m \u001b[1;32mimport\u001b[0m \u001b[0mtry_to_import_me\u001b[0m\u001b[1;33m\u001b[0m\u001b[1;33m\u001b[0m\u001b[0m\n\u001b[0m",
      "\u001b[1;31mModuleNotFoundError\u001b[0m: No module named 'try_to_import_me'"
     ]
    }
   ],
   "source": [
    "import try_to_import_me"
   ]
  },
  {
   "cell_type": "code",
   "execution_count": 6,
   "metadata": {},
   "outputs": [],
   "source": [
    "import sys"
   ]
  },
  {
   "cell_type": "code",
   "execution_count": 7,
   "metadata": {},
   "outputs": [
    {
     "data": {
      "text/plain": [
       "['C:\\\\Users\\\\Andrew\\\\Desktop\\\\Coding Projects\\\\data_jobs\\\\notebooks',\n",
       " 'C:\\\\Users\\\\Andrew\\\\Desktop\\\\Coding Projects',\n",
       " 'C:\\\\Users\\\\Andrew\\\\Anaconda3\\\\python37.zip',\n",
       " 'C:\\\\Users\\\\Andrew\\\\Anaconda3\\\\DLLs',\n",
       " 'C:\\\\Users\\\\Andrew\\\\Anaconda3\\\\lib',\n",
       " 'C:\\\\Users\\\\Andrew\\\\Anaconda3',\n",
       " '',\n",
       " 'C:\\\\Users\\\\Andrew\\\\AppData\\\\Roaming\\\\Python\\\\Python37\\\\site-packages',\n",
       " 'C:\\\\Users\\\\Andrew\\\\Anaconda3\\\\lib\\\\site-packages',\n",
       " 'C:\\\\Users\\\\Andrew\\\\Anaconda3\\\\lib\\\\site-packages\\\\win32',\n",
       " 'C:\\\\Users\\\\Andrew\\\\Anaconda3\\\\lib\\\\site-packages\\\\win32\\\\lib',\n",
       " 'C:\\\\Users\\\\Andrew\\\\Anaconda3\\\\lib\\\\site-packages\\\\Pythonwin',\n",
       " 'C:\\\\Users\\\\Andrew\\\\Anaconda3\\\\lib\\\\site-packages\\\\IPython\\\\extensions',\n",
       " 'C:\\\\Users\\\\Andrew\\\\.ipython']"
      ]
     },
     "execution_count": 7,
     "metadata": {},
     "output_type": "execute_result"
    }
   ],
   "source": [
    "sys.path"
   ]
  },
  {
   "cell_type": "code",
   "execution_count": 2,
   "metadata": {},
   "outputs": [],
   "source": [
    "import os"
   ]
  },
  {
   "cell_type": "code",
   "execution_count": 4,
   "metadata": {},
   "outputs": [
    {
     "data": {
      "text/plain": [
       "environ{'ALLUSERSPROFILE': 'C:\\\\ProgramData',\n",
       "        'APPDATA': 'C:\\\\Users\\\\Andrew\\\\AppData\\\\Roaming',\n",
       "        'CHOCOLATEYINSTALL': 'C:\\\\ProgramData\\\\chocolatey',\n",
       "        'CHOCOLATEYLASTPATHUPDATE': '132362032571271831',\n",
       "        'COMMONPROGRAMFILES': 'C:\\\\Program Files\\\\Common Files',\n",
       "        'COMMONPROGRAMFILES(X86)': 'C:\\\\Program Files (x86)\\\\Common Files',\n",
       "        'COMMONPROGRAMW6432': 'C:\\\\Program Files\\\\Common Files',\n",
       "        'COMPUTERNAME': 'ANDREW',\n",
       "        'COMSPEC': 'C:\\\\WINDOWS\\\\system32\\\\cmd.exe',\n",
       "        'CONDA_DEFAULT_ENV': 'base',\n",
       "        'CONDA_EXE': 'C:\\\\Users\\\\Andrew\\\\Anaconda3\\\\Scripts\\\\conda.exe',\n",
       "        'CONDA_PROMPT_MODIFIER': '(base) ',\n",
       "        'CONDA_PYTHON_EXE': 'C:\\\\Users\\\\Andrew\\\\Anaconda3\\\\python.exe',\n",
       "        'CONDA_ROOT': 'C:\\\\Users\\\\Andrew\\\\Anaconda3',\n",
       "        'CONDA_SHLVL': '1',\n",
       "        'DRIVERDATA': 'C:\\\\Windows\\\\System32\\\\Drivers\\\\DriverData',\n",
       "        'HOMEDRIVE': 'C:',\n",
       "        'HOMEPATH': '\\\\Users\\\\Andrew',\n",
       "        'LOCALAPPDATA': 'C:\\\\Users\\\\Andrew\\\\AppData\\\\Local',\n",
       "        'LOGONSERVER': '\\\\\\\\ANDREW',\n",
       "        'MOZ_DISABLE_CONTENT_SANDBOX': '1',\n",
       "        'MOZ_DISABLE_NPAPI_SANDBOX': '1',\n",
       "        'MOZ_PLUGIN_PATH': 'C:\\\\Program Files (x86)\\\\Foxit Software\\\\Foxit Reader\\\\plugins\\\\',\n",
       "        'NUMBER_OF_PROCESSORS': '8',\n",
       "        'ONEDRIVE': 'C:\\\\Users\\\\Andrew\\\\stjohnsprepschool.org',\n",
       "        'ONEDRIVECOMMERCIAL': 'C:\\\\Users\\\\Andrew\\\\stjohnsprepschool.org',\n",
       "        'ONEDRIVECONSUMER': 'C:\\\\Users\\\\Andrew\\\\OneDrive',\n",
       "        'OS': 'Windows_NT',\n",
       "        'PATH': 'C:\\\\Users\\\\Andrew\\\\Anaconda3;C:\\\\Users\\\\Andrew\\\\Anaconda3\\\\Library\\\\mingw-w64\\\\bin;C:\\\\Users\\\\Andrew\\\\Anaconda3\\\\Library\\\\usr\\\\bin;C:\\\\Users\\\\Andrew\\\\Anaconda3\\\\Library\\\\bin;C:\\\\Users\\\\Andrew\\\\Anaconda3\\\\Scripts;C:\\\\Users\\\\Andrew\\\\Anaconda3\\\\bin;C:\\\\Users\\\\Andrew\\\\Anaconda3\\\\condabin;C:\\\\Users\\\\Andrew\\\\AppData\\\\Roaming\\\\Python\\\\Python37\\\\site-packages\\\\PyQt5\\\\Qt\\\\bin;C:\\\\Users\\\\Andrew\\\\Anaconda3;C:\\\\Users\\\\Andrew\\\\Anaconda3\\\\Library\\\\mingw-w64\\\\bin;C:\\\\Users\\\\Andrew\\\\Anaconda3\\\\Library\\\\usr\\\\bin;C:\\\\Users\\\\Andrew\\\\Anaconda3\\\\Library\\\\bin;C:\\\\Users\\\\Andrew\\\\Anaconda3\\\\Scripts;C:\\\\Python38\\\\Scripts;C:\\\\Python38;C:\\\\Program Files (x86)\\\\Common Files\\\\Oracle\\\\Java\\\\javapath;C:\\\\WINDOWS\\\\system32;C:\\\\WINDOWS;C:\\\\WINDOWS\\\\System32\\\\Wbem;C:\\\\WINDOWS\\\\System32\\\\WindowsPowerShell\\\\v1.0;C:\\\\WINDOWS\\\\System32\\\\OpenSSH;C:\\\\Program Files\\\\Git\\\\cmd;C:\\\\Users\\\\Andrew\\\\Anaconda3;C:\\\\Program Files\\\\Git\\\\bin;C:\\\\Users\\\\Andrew\\\\AppData\\\\Roaming\\\\Python\\\\Python37\\\\Scripts;C:\\\\Program Files\\\\nodejs;C:\\\\ProgramData\\\\chocolatey\\\\bin;C:\\\\Program Files\\\\dotnet;C:\\\\Users\\\\Andrew\\\\AppData\\\\Local\\\\Packages\\\\PythonSoftwareFoundation.Python.3.8_qbz5n2kfra8p0\\\\LocalCache\\\\local-packages\\\\Python38\\\\Scripts;C:\\\\Users\\\\Andrew\\\\AppData\\\\Local\\\\Microsoft\\\\WindowsApps;C:\\\\Users\\\\Andrew\\\\Anaconda3;C:\\\\Users\\\\Andrew\\\\AppData\\\\Roaming\\\\Python\\\\Python37\\\\Scripts;C:\\\\Users\\\\Andrew\\\\AppData\\\\Roaming\\\\npm;C:\\\\Users\\\\Andrew\\\\Desktop\\\\Coding Projects;C:\\\\Program Files\\\\JetBrains\\\\PyCharm Community Edition 2020.1.4\\\\bin;.;C:\\\\Program Files\\\\JetBrains\\\\PyCharm 2020.1.4\\\\bin;.;.',\n",
       "        'PATHEXT': '.COM;.EXE;.BAT;.CMD;.VBS;.VBE;.JS;.JSE;.WSF;.WSH;.MSC',\n",
       "        'PROCESSOR_ARCHITECTURE': 'AMD64',\n",
       "        'PROCESSOR_IDENTIFIER': 'Intel64 Family 6 Model 142 Stepping 10, GenuineIntel',\n",
       "        'PROCESSOR_LEVEL': '6',\n",
       "        'PROCESSOR_REVISION': '8e0a',\n",
       "        'PROGRAMDATA': 'C:\\\\ProgramData',\n",
       "        'PROGRAMFILES': 'C:\\\\Program Files',\n",
       "        'PROGRAMFILES(X86)': 'C:\\\\Program Files (x86)',\n",
       "        'PROGRAMW6432': 'C:\\\\Program Files',\n",
       "        'PROMPT': '(base) $P$G',\n",
       "        'PSMODULEPATH': 'C:\\\\Program Files\\\\WindowsPowerShell\\\\Modules;C:\\\\WINDOWS\\\\system32\\\\WindowsPowerShell\\\\v1.0\\\\Modules',\n",
       "        'PUBLIC': 'C:\\\\Users\\\\Public',\n",
       "        'PYCHARM': 'C:\\\\Program Files\\\\JetBrains\\\\PyCharm 2020.1.4\\\\bin;',\n",
       "        'PYCHARM COMMUNITY EDITION': 'C:\\\\Program Files\\\\JetBrains\\\\PyCharm Community Edition 2020.1.4\\\\bin;',\n",
       "        'PYTHON3.8': \"'C:\\\\Users\\\\Andrew\\\\AppData\\\\Local\\\\Packages\\\\PythonSoftwareFoundation.Python.3.8_qbz5n2kfra8p0\\\\LocalCache\\\\local-packages\\\\Python38\\\\Scripts'\",\n",
       "        'PYTHONPATH': 'C:\\\\Users\\\\Andrew\\\\Desktop\\\\Coding Projects',\n",
       "        'SESSIONNAME': 'Console',\n",
       "        'SYSTEMDRIVE': 'C:',\n",
       "        'SYSTEMROOT': 'C:\\\\WINDOWS',\n",
       "        'TEMP': 'C:\\\\Users\\\\Andrew\\\\AppData\\\\Local\\\\Temp',\n",
       "        'TMP': 'C:\\\\Users\\\\Andrew\\\\AppData\\\\Local\\\\Temp',\n",
       "        'USERDOMAIN': 'ANDREW',\n",
       "        'USERDOMAIN_ROAMINGPROFILE': 'ANDREW',\n",
       "        'USERNAME': 'Andrew',\n",
       "        'USERPROFILE': 'C:\\\\Users\\\\Andrew',\n",
       "        'WINDIR': 'C:\\\\WINDOWS',\n",
       "        'CONDA_PREFIX': 'C:\\\\Users\\\\Andrew\\\\Anaconda3',\n",
       "        'KERNEL_LAUNCH_TIMEOUT': '40',\n",
       "        'GIT_PYTHON_REFRESH': 'quiet',\n",
       "        'JPY_INTERRUPT_EVENT': '2040',\n",
       "        'IPY_INTERRUPT_EVENT': '2040',\n",
       "        'JPY_PARENT_PID': '2032',\n",
       "        'TERM': 'xterm-color',\n",
       "        'CLICOLOR': '1',\n",
       "        'PAGER': 'cat',\n",
       "        'GIT_PAGER': 'cat',\n",
       "        'MPLBACKEND': 'module://ipykernel.pylab.backend_inline'}"
      ]
     },
     "execution_count": 4,
     "metadata": {},
     "output_type": "execute_result"
    }
   ],
   "source": [
    "os.environ"
   ]
  },
  {
   "cell_type": "code",
   "execution_count": null,
   "metadata": {},
   "outputs": [],
   "source": []
  }
 ],
 "metadata": {
  "kernelspec": {
   "display_name": "Python 3",
   "language": "python",
   "name": "python3"
  },
  "language_info": {
   "codemirror_mode": {
    "name": "ipython",
    "version": 3
   },
   "file_extension": ".py",
   "mimetype": "text/x-python",
   "name": "python",
   "nbconvert_exporter": "python",
   "pygments_lexer": "ipython3",
   "version": "3.7.1"
  }
 },
 "nbformat": 4,
 "nbformat_minor": 4
}
