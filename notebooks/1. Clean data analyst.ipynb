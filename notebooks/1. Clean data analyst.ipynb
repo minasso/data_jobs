{
 "cells": [
  {
   "cell_type": "code",
   "execution_count": 2,
   "metadata": {},
   "outputs": [],
   "source": [
    "import pandas as pd"
   ]
  },
  {
   "cell_type": "code",
   "execution_count": 3,
   "metadata": {},
   "outputs": [],
   "source": [
    "df = pd.read_csv('../data/raw/DataAnalyst.csv')"
   ]
  },
  {
   "cell_type": "code",
   "execution_count": 4,
   "metadata": {},
   "outputs": [],
   "source": [
    "f = df.drop('Unnamed: 0',axis=1)"
   ]
  },
  {
   "cell_type": "code",
   "execution_count": 5,
   "metadata": {},
   "outputs": [],
   "source": [
    "f = df"
   ]
  },
  {
   "cell_type": "code",
   "execution_count": 6,
   "metadata": {},
   "outputs": [],
   "source": [
    "f = f[['Job Title', 'Salary Estimate', 'Job Description', 'Rating',\n",
    "       'Company Name', 'Location', 'Industry', 'Sector', 'Revenue', 'Easy Apply']]"
   ]
  },
  {
   "cell_type": "code",
   "execution_count": 7,
   "metadata": {},
   "outputs": [],
   "source": [
    "f.columns = map(str.lower,f.columns)"
   ]
  },
  {
   "cell_type": "code",
   "execution_count": 8,
   "metadata": {},
   "outputs": [],
   "source": [
    "f.columns = f.columns.str.replace(' ','_')"
   ]
  },
  {
   "cell_type": "code",
   "execution_count": 9,
   "metadata": {},
   "outputs": [
    {
     "data": {
      "text/html": [
       "<div>\n",
       "<style scoped>\n",
       "    .dataframe tbody tr th:only-of-type {\n",
       "        vertical-align: middle;\n",
       "    }\n",
       "\n",
       "    .dataframe tbody tr th {\n",
       "        vertical-align: top;\n",
       "    }\n",
       "\n",
       "    .dataframe thead th {\n",
       "        text-align: right;\n",
       "    }\n",
       "</style>\n",
       "<table border=\"1\" class=\"dataframe\">\n",
       "  <thead>\n",
       "    <tr style=\"text-align: right;\">\n",
       "      <th></th>\n",
       "      <th>job_title</th>\n",
       "      <th>salary_estimate</th>\n",
       "      <th>job_description</th>\n",
       "      <th>rating</th>\n",
       "      <th>company_name</th>\n",
       "      <th>location</th>\n",
       "      <th>industry</th>\n",
       "      <th>sector</th>\n",
       "      <th>revenue</th>\n",
       "      <th>easy_apply</th>\n",
       "    </tr>\n",
       "  </thead>\n",
       "  <tbody>\n",
       "    <tr>\n",
       "      <th>2149</th>\n",
       "      <td>Configuration/Data Management Analyst III</td>\n",
       "      <td>-1</td>\n",
       "      <td>Job Description\\nPosition Title: Configuration...</td>\n",
       "      <td>4.4</td>\n",
       "      <td>Protingent\\n4.4</td>\n",
       "      <td>Kent, WA</td>\n",
       "      <td>Staffing &amp; Outsourcing</td>\n",
       "      <td>Business Services</td>\n",
       "      <td>$25 to $50 million (USD)</td>\n",
       "      <td>-1</td>\n",
       "    </tr>\n",
       "  </tbody>\n",
       "</table>\n",
       "</div>"
      ],
      "text/plain": [
       "                                      job_title salary_estimate  \\\n",
       "2149  Configuration/Data Management Analyst III              -1   \n",
       "\n",
       "                                        job_description  rating  \\\n",
       "2149  Job Description\\nPosition Title: Configuration...     4.4   \n",
       "\n",
       "         company_name  location                industry             sector  \\\n",
       "2149  Protingent\\n4.4  Kent, WA  Staffing & Outsourcing  Business Services   \n",
       "\n",
       "                       revenue easy_apply  \n",
       "2149  $25 to $50 million (USD)         -1  "
      ]
     },
     "execution_count": 9,
     "metadata": {},
     "output_type": "execute_result"
    }
   ],
   "source": [
    "f[~f['salary_estimate'].str.contains('Glassdoor est.')]"
   ]
  },
  {
   "cell_type": "code",
   "execution_count": 10,
   "metadata": {},
   "outputs": [],
   "source": [
    "f = f.drop(2149)"
   ]
  },
  {
   "cell_type": "code",
   "execution_count": 11,
   "metadata": {},
   "outputs": [],
   "source": [
    "f['salary_estimate'] = f['salary_estimate'].str.replace('\\(Glassdoor est.\\)','')"
   ]
  },
  {
   "cell_type": "code",
   "execution_count": 12,
   "metadata": {},
   "outputs": [],
   "source": [
    "f['salary_estimate'] = f['salary_estimate'].str.replace('$','').str.replace('K','000')"
   ]
  },
  {
   "cell_type": "code",
   "execution_count": 13,
   "metadata": {},
   "outputs": [],
   "source": [
    "f['low_salary'] = f['salary_estimate'].str.split('-').str.get(0)\n",
    "f['high_salary'] = f['salary_estimate'].str.split('-').str.get(1)"
   ]
  },
  {
   "cell_type": "code",
   "execution_count": 14,
   "metadata": {},
   "outputs": [],
   "source": [
    "f.drop('salary_estimate',axis=1,inplace=True)"
   ]
  },
  {
   "cell_type": "code",
   "execution_count": 15,
   "metadata": {},
   "outputs": [],
   "source": [
    "f['low_salary']  = pd.to_numeric(f['low_salary'] )"
   ]
  },
  {
   "cell_type": "code",
   "execution_count": 16,
   "metadata": {},
   "outputs": [],
   "source": [
    "f['high_salary']  = pd.to_numeric(f['high_salary'] )"
   ]
  },
  {
   "cell_type": "code",
   "execution_count": 17,
   "metadata": {},
   "outputs": [],
   "source": [
    "f['mid_salary'] = ( f['low_salary'] + f['low_salary'] )/2"
   ]
  },
  {
   "cell_type": "code",
   "execution_count": 18,
   "metadata": {},
   "outputs": [],
   "source": [
    "f = f[['job_title', 'low_salary',\n",
    "    'mid_salary','high_salary',\n",
    "   'job_description', 'rating', 'company_name', 'location',\n",
    "     'easy_apply', ]]"
   ]
  },
  {
   "cell_type": "code",
   "execution_count": 19,
   "metadata": {},
   "outputs": [],
   "source": [
    "#create job_id column that matches index to keep track of job allowing later merges of different views\n",
    "f = f.reset_index()\n",
    "\n",
    "f.rename(columns={'index':'job_id'},inplace=True)"
   ]
  },
  {
   "cell_type": "code",
   "execution_count": 20,
   "metadata": {},
   "outputs": [],
   "source": [
    "f['city'] = f['location'].str.split(', ').str.get(0)\n",
    "f['state'] = f['location'].str.split(', ').str.get(-1)"
   ]
  },
  {
   "cell_type": "code",
   "execution_count": 21,
   "metadata": {},
   "outputs": [
    {
     "data": {
      "text/html": [
       "<div>\n",
       "<style scoped>\n",
       "    .dataframe tbody tr th:only-of-type {\n",
       "        vertical-align: middle;\n",
       "    }\n",
       "\n",
       "    .dataframe tbody tr th {\n",
       "        vertical-align: top;\n",
       "    }\n",
       "\n",
       "    .dataframe thead th {\n",
       "        text-align: right;\n",
       "    }\n",
       "</style>\n",
       "<table border=\"1\" class=\"dataframe\">\n",
       "  <thead>\n",
       "    <tr style=\"text-align: right;\">\n",
       "      <th></th>\n",
       "      <th>job_id</th>\n",
       "      <th>job_title</th>\n",
       "      <th>low_salary</th>\n",
       "      <th>mid_salary</th>\n",
       "      <th>high_salary</th>\n",
       "      <th>job_description</th>\n",
       "      <th>rating</th>\n",
       "      <th>company_name</th>\n",
       "      <th>location</th>\n",
       "      <th>easy_apply</th>\n",
       "      <th>city</th>\n",
       "      <th>state</th>\n",
       "    </tr>\n",
       "  </thead>\n",
       "  <tbody>\n",
       "    <tr>\n",
       "      <th>0</th>\n",
       "      <td>0</td>\n",
       "      <td>Data Analyst, Center on Immigration and Justic...</td>\n",
       "      <td>37000</td>\n",
       "      <td>37000.0</td>\n",
       "      <td>66000</td>\n",
       "      <td>Are you eager to roll up your sleeves and harn...</td>\n",
       "      <td>3.2</td>\n",
       "      <td>Vera Institute of Justice\\n3.2</td>\n",
       "      <td>New York, NY</td>\n",
       "      <td>True</td>\n",
       "      <td>New York</td>\n",
       "      <td>NY</td>\n",
       "    </tr>\n",
       "    <tr>\n",
       "      <th>1</th>\n",
       "      <td>1</td>\n",
       "      <td>Quality Data Analyst</td>\n",
       "      <td>37000</td>\n",
       "      <td>37000.0</td>\n",
       "      <td>66000</td>\n",
       "      <td>Overview\\n\\nProvides analytical and technical ...</td>\n",
       "      <td>3.8</td>\n",
       "      <td>Visiting Nurse Service of New York\\n3.8</td>\n",
       "      <td>New York, NY</td>\n",
       "      <td>-1</td>\n",
       "      <td>New York</td>\n",
       "      <td>NY</td>\n",
       "    </tr>\n",
       "    <tr>\n",
       "      <th>2</th>\n",
       "      <td>2</td>\n",
       "      <td>Senior Data Analyst, Insights &amp; Analytics Team...</td>\n",
       "      <td>37000</td>\n",
       "      <td>37000.0</td>\n",
       "      <td>66000</td>\n",
       "      <td>We’re looking for a Senior Data Analyst who ha...</td>\n",
       "      <td>3.4</td>\n",
       "      <td>Squarespace\\n3.4</td>\n",
       "      <td>New York, NY</td>\n",
       "      <td>-1</td>\n",
       "      <td>New York</td>\n",
       "      <td>NY</td>\n",
       "    </tr>\n",
       "    <tr>\n",
       "      <th>3</th>\n",
       "      <td>3</td>\n",
       "      <td>Data Analyst</td>\n",
       "      <td>37000</td>\n",
       "      <td>37000.0</td>\n",
       "      <td>66000</td>\n",
       "      <td>Requisition NumberRR-0001939\\nRemote:Yes\\nWe c...</td>\n",
       "      <td>4.1</td>\n",
       "      <td>Celerity\\n4.1</td>\n",
       "      <td>New York, NY</td>\n",
       "      <td>-1</td>\n",
       "      <td>New York</td>\n",
       "      <td>NY</td>\n",
       "    </tr>\n",
       "    <tr>\n",
       "      <th>4</th>\n",
       "      <td>4</td>\n",
       "      <td>Reporting Data Analyst</td>\n",
       "      <td>37000</td>\n",
       "      <td>37000.0</td>\n",
       "      <td>66000</td>\n",
       "      <td>ABOUT FANDUEL GROUP\\n\\nFanDuel Group is a worl...</td>\n",
       "      <td>3.9</td>\n",
       "      <td>FanDuel\\n3.9</td>\n",
       "      <td>New York, NY</td>\n",
       "      <td>True</td>\n",
       "      <td>New York</td>\n",
       "      <td>NY</td>\n",
       "    </tr>\n",
       "    <tr>\n",
       "      <th>...</th>\n",
       "      <td>...</td>\n",
       "      <td>...</td>\n",
       "      <td>...</td>\n",
       "      <td>...</td>\n",
       "      <td>...</td>\n",
       "      <td>...</td>\n",
       "      <td>...</td>\n",
       "      <td>...</td>\n",
       "      <td>...</td>\n",
       "      <td>...</td>\n",
       "      <td>...</td>\n",
       "      <td>...</td>\n",
       "    </tr>\n",
       "    <tr>\n",
       "      <th>2247</th>\n",
       "      <td>2248</td>\n",
       "      <td>RQS - IHHA - 201900004460 -1q Data Security An...</td>\n",
       "      <td>78000</td>\n",
       "      <td>78000.0</td>\n",
       "      <td>104000</td>\n",
       "      <td>Maintains systems to protect data from unautho...</td>\n",
       "      <td>2.5</td>\n",
       "      <td>Avacend, Inc.\\n2.5</td>\n",
       "      <td>Denver, CO</td>\n",
       "      <td>-1</td>\n",
       "      <td>Denver</td>\n",
       "      <td>CO</td>\n",
       "    </tr>\n",
       "    <tr>\n",
       "      <th>2248</th>\n",
       "      <td>2249</td>\n",
       "      <td>Senior Data Analyst (Corporate Audit)</td>\n",
       "      <td>78000</td>\n",
       "      <td>78000.0</td>\n",
       "      <td>104000</td>\n",
       "      <td>Position:\\nSenior Data Analyst (Corporate Audi...</td>\n",
       "      <td>2.9</td>\n",
       "      <td>Arrow Electronics\\n2.9</td>\n",
       "      <td>Centennial, CO</td>\n",
       "      <td>-1</td>\n",
       "      <td>Centennial</td>\n",
       "      <td>CO</td>\n",
       "    </tr>\n",
       "    <tr>\n",
       "      <th>2249</th>\n",
       "      <td>2250</td>\n",
       "      <td>Technical Business Analyst (SQL, Data analytic...</td>\n",
       "      <td>78000</td>\n",
       "      <td>78000.0</td>\n",
       "      <td>104000</td>\n",
       "      <td>Title: Technical Business Analyst (SQL, Data a...</td>\n",
       "      <td>-1.0</td>\n",
       "      <td>Spiceorb</td>\n",
       "      <td>Denver, CO</td>\n",
       "      <td>-1</td>\n",
       "      <td>Denver</td>\n",
       "      <td>CO</td>\n",
       "    </tr>\n",
       "    <tr>\n",
       "      <th>2250</th>\n",
       "      <td>2251</td>\n",
       "      <td>Data Analyst 3, Customer Experience</td>\n",
       "      <td>78000</td>\n",
       "      <td>78000.0</td>\n",
       "      <td>104000</td>\n",
       "      <td>Summary\\n\\nResponsible for working cross-funct...</td>\n",
       "      <td>3.1</td>\n",
       "      <td>Contingent Network Services\\n3.1</td>\n",
       "      <td>Centennial, CO</td>\n",
       "      <td>-1</td>\n",
       "      <td>Centennial</td>\n",
       "      <td>CO</td>\n",
       "    </tr>\n",
       "    <tr>\n",
       "      <th>2251</th>\n",
       "      <td>2252</td>\n",
       "      <td>Senior Quality Data Analyst</td>\n",
       "      <td>78000</td>\n",
       "      <td>78000.0</td>\n",
       "      <td>104000</td>\n",
       "      <td>You.\\n\\nYou bring your body, mind, heart and s...</td>\n",
       "      <td>3.4</td>\n",
       "      <td>SCL Health\\n3.4</td>\n",
       "      <td>Broomfield, CO</td>\n",
       "      <td>-1</td>\n",
       "      <td>Broomfield</td>\n",
       "      <td>CO</td>\n",
       "    </tr>\n",
       "  </tbody>\n",
       "</table>\n",
       "<p>2252 rows × 12 columns</p>\n",
       "</div>"
      ],
      "text/plain": [
       "      job_id                                          job_title  low_salary  \\\n",
       "0          0  Data Analyst, Center on Immigration and Justic...       37000   \n",
       "1          1                               Quality Data Analyst       37000   \n",
       "2          2  Senior Data Analyst, Insights & Analytics Team...       37000   \n",
       "3          3                                       Data Analyst       37000   \n",
       "4          4                             Reporting Data Analyst       37000   \n",
       "...      ...                                                ...         ...   \n",
       "2247    2248  RQS - IHHA - 201900004460 -1q Data Security An...       78000   \n",
       "2248    2249              Senior Data Analyst (Corporate Audit)       78000   \n",
       "2249    2250  Technical Business Analyst (SQL, Data analytic...       78000   \n",
       "2250    2251                Data Analyst 3, Customer Experience       78000   \n",
       "2251    2252                        Senior Quality Data Analyst       78000   \n",
       "\n",
       "      mid_salary  high_salary  \\\n",
       "0        37000.0        66000   \n",
       "1        37000.0        66000   \n",
       "2        37000.0        66000   \n",
       "3        37000.0        66000   \n",
       "4        37000.0        66000   \n",
       "...          ...          ...   \n",
       "2247     78000.0       104000   \n",
       "2248     78000.0       104000   \n",
       "2249     78000.0       104000   \n",
       "2250     78000.0       104000   \n",
       "2251     78000.0       104000   \n",
       "\n",
       "                                        job_description  rating  \\\n",
       "0     Are you eager to roll up your sleeves and harn...     3.2   \n",
       "1     Overview\\n\\nProvides analytical and technical ...     3.8   \n",
       "2     We’re looking for a Senior Data Analyst who ha...     3.4   \n",
       "3     Requisition NumberRR-0001939\\nRemote:Yes\\nWe c...     4.1   \n",
       "4     ABOUT FANDUEL GROUP\\n\\nFanDuel Group is a worl...     3.9   \n",
       "...                                                 ...     ...   \n",
       "2247  Maintains systems to protect data from unautho...     2.5   \n",
       "2248  Position:\\nSenior Data Analyst (Corporate Audi...     2.9   \n",
       "2249  Title: Technical Business Analyst (SQL, Data a...    -1.0   \n",
       "2250  Summary\\n\\nResponsible for working cross-funct...     3.1   \n",
       "2251  You.\\n\\nYou bring your body, mind, heart and s...     3.4   \n",
       "\n",
       "                                 company_name        location easy_apply  \\\n",
       "0              Vera Institute of Justice\\n3.2    New York, NY       True   \n",
       "1     Visiting Nurse Service of New York\\n3.8    New York, NY         -1   \n",
       "2                            Squarespace\\n3.4    New York, NY         -1   \n",
       "3                               Celerity\\n4.1    New York, NY         -1   \n",
       "4                                FanDuel\\n3.9    New York, NY       True   \n",
       "...                                       ...             ...        ...   \n",
       "2247                       Avacend, Inc.\\n2.5      Denver, CO         -1   \n",
       "2248                   Arrow Electronics\\n2.9  Centennial, CO         -1   \n",
       "2249                                 Spiceorb      Denver, CO         -1   \n",
       "2250         Contingent Network Services\\n3.1  Centennial, CO         -1   \n",
       "2251                          SCL Health\\n3.4  Broomfield, CO         -1   \n",
       "\n",
       "            city state  \n",
       "0       New York    NY  \n",
       "1       New York    NY  \n",
       "2       New York    NY  \n",
       "3       New York    NY  \n",
       "4       New York    NY  \n",
       "...          ...   ...  \n",
       "2247      Denver    CO  \n",
       "2248  Centennial    CO  \n",
       "2249      Denver    CO  \n",
       "2250  Centennial    CO  \n",
       "2251  Broomfield    CO  \n",
       "\n",
       "[2252 rows x 12 columns]"
      ]
     },
     "execution_count": 21,
     "metadata": {},
     "output_type": "execute_result"
    }
   ],
   "source": [
    "f"
   ]
  },
  {
   "cell_type": "code",
   "execution_count": 22,
   "metadata": {},
   "outputs": [],
   "source": [
    "# f = f.drop('location',axis=1)"
   ]
  },
  {
   "cell_type": "code",
   "execution_count": 23,
   "metadata": {},
   "outputs": [],
   "source": [
    "f = f.drop('job_id',axis=True)"
   ]
  },
  {
   "cell_type": "code",
   "execution_count": 24,
   "metadata": {},
   "outputs": [],
   "source": [
    "f['company_name'] = f['company_name'].str.split('\\n').str.get(0)"
   ]
  },
  {
   "cell_type": "code",
   "execution_count": 25,
   "metadata": {},
   "outputs": [],
   "source": [
    "f.to_pickle('../data/interim/data_analyst.pkl')"
   ]
  }
 ],
 "metadata": {
  "kernelspec": {
   "display_name": "Python 3",
   "language": "python",
   "name": "python3"
  },
  "language_info": {
   "codemirror_mode": {
    "name": "ipython",
    "version": 3
   },
   "file_extension": ".py",
   "mimetype": "text/x-python",
   "name": "python",
   "nbconvert_exporter": "python",
   "pygments_lexer": "ipython3",
   "version": "3.7.1"
  }
 },
 "nbformat": 4,
 "nbformat_minor": 4
}
